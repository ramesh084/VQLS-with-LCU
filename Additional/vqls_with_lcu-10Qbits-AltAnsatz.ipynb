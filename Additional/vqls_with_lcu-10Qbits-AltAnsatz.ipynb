{
 "cells": [
  {
   "cell_type": "markdown",
   "metadata": {},
   "source": [
    "# QPoland Global Quantum Hackathon\n",
    "19-Oct-2024 to 27-Oct-2024 (For QML track submission deadline extended till 18-Nov-2024)\n",
    "\n",
    "https://www.qaif.org/contests/qpoland-global-quantum-hackathon"
   ]
  },
  {
   "cell_type": "markdown",
   "metadata": {},
   "source": [
    "**Team name**:  Qudit Creons"
   ]
  },
  {
   "cell_type": "markdown",
   "metadata": {},
   "source": [
    "## Problem Statement:\n",
    "### Quantum Machine Learning: Solving Linear Systems of Equations\n",
    "### Re-Implementation of Variational Quantum Linear Solver from paper [Bravo-Prieto et al. (2020)](https://arxiv.org/pdf/1909.05820.pdf)"
   ]
  },
  {
   "cell_type": "markdown",
   "metadata": {},
   "source": [
    "### Background\n",
    "\n",
    "Linear systems of equations are fundamental in mathematics and have wide-ranging applications across several fields, including physics, engineering, economics, and computer science. This kind of equation can be found when solving numerically differential equations, analyzing electrical circuits, or performing 3D transformations in computer vision. Additionally, linear systems are critical in statistical analysis, particularly in regression models, which are used to find the best-fit line for data. Their importance lies in their simplicity, versatility, and ability to provide solutions in many practical scenarios.\n",
    "\n",
    "Considering this, solving a linear system that grows in size becomes more difficult using classical computing techniques. In particular, Carlos Bravo-Prieto et al.'s paper \"Variational Quantum Linear Solver\" Ref[1] shows a solution to this problem using quantum machine learning methods.\n"
   ]
  },
  {
   "cell_type": "markdown",
   "metadata": {},
   "source": [
    "### Detailed Challenge Description\n",
    "\n",
    "In this challenge, your goal is to reproduce the implementation of the quantum algorithm displayed in **the Sec. 2.3 of the paper Ref [1]**, i.e. solve the following system of linear equations:\n",
    " $$\\textbf{A}\\vec{x}= \\vec{0}$$\n",
    "\n",
    " $$A = \\sum_{i=1}^{10} X_i  + 0.1\\sum_{i=1}^{9} Z_i Z_{i+1} +I,$$\n",
    "\n",
    "\n",
    "Where $ X_i$, adn $Z_i$ are the respective Pauli matrices, acting over the Qubit with index $i$.\n",
    "The submitted solution to this challenge consists of a quantum program written with Classiq that includes:\n",
    "\n",
    "\t1) A correct cost function and quantum ansatz \n",
    "\t2) A single execution of the quantum algorithm, using the state-vector simulator\n",
    "\t3) The quantum program’s CX-gate count\n"
   ]
  },
  {
   "cell_type": "markdown",
   "metadata": {},
   "source": [
    "#### Requirements:\n",
    "\n",
    "1) Install ***Python 3.12*** (NOTE - The Classiq SDK is currently supported for Python versions 3.8 to 3.12).\n",
    "2) Install  ***Jupyter*** (Optional for SDK, required to run this notebook)\n",
    "3) User registration at platform. **Note**: To use Classiq platform for free for non-commercial purposes, you must register. Then you can optionally install the Python SDK package and authenticate your account. [Click here for more derail...](https://docs.classiq.io/latest/classiq_101/registration_installations/)\n",
    "4) Install  ***Classiq 0.57*** (Classiq's Python SDK for quantum computing)  [https://platform.classiq.io/](https://platform.classiq.io/)\n",
    "5) Once above four steps completed \"Authenticate the device with your Classiq account\" as mentioned in step 3 link."
   ]
  },
  {
   "cell_type": "markdown",
   "metadata": {},
   "source": [
    "### Solution Development"
   ]
  },
  {
   "cell_type": "markdown",
   "metadata": {},
   "source": [
    "**Disclaimer**: For developing solution we have used \"[Variational Quantum Linear Solver (VQLS) with Linear Combination of Unitaries (LCU) Block Encoding.](https://docs.classiq.io/latest/explore/algorithms/vqls/lcu_vqls/vqls_with_lcu/)\" Ref[4]. Here it is solution for 3 qubit. We developped solution for 10 qubits. Some portion we copied as it is from Ref[4]. We worked on \"LCU Block Encoding\" and Ansats as for 10 qubit solutions."
   ]
  },
  {
   "cell_type": "markdown",
   "metadata": {
    "jp-MarkdownHeadingCollapsed": true
   },
   "source": [
    "The Variational Quantum Linear Solver (VQLS) is a quantum algorithm that harnesses the power of Variational Quantum Eigensolvers (VQE) to efficiently solve systems of linear equations:\n",
    "\n",
    "* **Input:** A matrix $\\textbf{A}$ and a known vector $|\\textbf{b}\\rangle$.\n",
    "\n",
    "* **Output:** An approximation of a normalized solution  $|x\\rangle$ proportional to $|\\textbf{x}\\rangle$, satisfying the equation $\\textbf{A} |\\textbf{x}\\rangle = |\\textbf{b}\\rangle$.\n",
    "\n",
    "***\n",
    "\n",
    "\n",
    "While the output of VQLS mirrors that of the HHL Quantum Linear-Solving Algorithm, VQLS distinguishes itself by its ability to operate on Noisy Intermediate-Scale Quantum (NISQ) computers. In contrast, HHL necessitates more robust quantum hardware and a larger qubit count, despite offering a faster computation speedup."
   ]
  },
  {
   "cell_type": "markdown",
   "metadata": {},
   "source": [
    "In this tutorial we will cover an implementation example of a **Variational Quantum Linear Solver** [[1](#VQLS)] using block encoding , in particular, we will use linear combinations of unitaries, or LCUs for short, for the block encoding **for 10 qubits**\n",
    "\n",
    "As all variational algorithms, the VQLS is a hybrid algorithm in which we apply a classical optimization on the results of a parametrized (ansatz) quantum program"
   ]
  },
  {
   "cell_type": "markdown",
   "metadata": {},
   "source": [
    "### Quantum Part: Variational Circuit"
   ]
  },
  {
   "cell_type": "markdown",
   "metadata": {},
   "source": [
    "To block encode a Variational Quantum Linear Solver as explained above we can define a high-level `block_encoding_vqls` function as follows:"
   ]
  },
  {
   "cell_type": "code",
   "execution_count": 15,
   "metadata": {
    "editable": true,
    "slideshow": {
     "slide_type": ""
    },
    "tags": []
   },
   "outputs": [],
   "source": [
    "from typing import List\n",
    "import numpy as np\n",
    "from classiq import *"
   ]
  },
  {
   "cell_type": "code",
   "execution_count": 16,
   "metadata": {},
   "outputs": [],
   "source": [
    "@qfunc\n",
    "def block_encoding_vqls(\n",
    "    ansatz: QCallable,\n",
    "    block_encoding: QCallable,\n",
    "    prepare_b_state: QCallable,\n",
    ") -> None:\n",
    "    ansatz()\n",
    "    block_encoding()\n",
    "    invert(lambda: prepare_b_state())"
   ]
  },
  {
   "cell_type": "markdown",
   "metadata": {},
   "source": [
    "From here, all we need to do is to define our `ansatz`, `block_encoding` and `prepare_b_state` to fit the above specific example and we are ready to build our model, synthesize it, execute it and analyze the results."
   ]
  },
  {
   "cell_type": "markdown",
   "metadata": {},
   "source": [
    "### Classical Optimizer: Finding Optimal Parameters"
   ]
  },
  {
   "cell_type": "markdown",
   "metadata": {},
   "source": [
    "\n",
    "In order to variationally solve our linear problem, we define the\n",
    "cost function $C = 1- |\\langle b | \\Psi \\rangle|^2$ that we are going to\n",
    "minimize. \n",
    "\n",
    "At high level, the above could be implemented as follows:\n",
    "\n",
    "We construct a quantum model as depicted in the figure below. When measuring the above circuit in the computational basis, the probability of\n",
    "finding the system qubits it in the ground state (given the ancillary qubits measured\n",
    "in their ground state), is\n",
    "    $|\\langle 0 | U_b^\\dagger |\\Psi \\rangle|^2 = |\\langle b | \\Psi \\rangle|^2$\n",
    "\n",
    "We define a classical function that gets the quantum program, minimizes the cost function using the COBYLA optimizer, and returns the optimal parameters."
   ]
  },
  {
   "cell_type": "code",
   "execution_count": 17,
   "metadata": {},
   "outputs": [],
   "source": [
    "import random\n",
    "\n",
    "import matplotlib.pyplot as plt\n",
    "from scipy.optimize import minimize\n",
    "\n",
    "from classiq.execution import ExecutionSession\n",
    "\n",
    "\n",
    "class VqlsOptimizer:\n",
    "    def __init__(self, qprog, ansatz_param_count, ansatz_var_name, aux_var_name):\n",
    "        self.qprog = qprog\n",
    "        self.ansatz_param_count = ansatz_param_count\n",
    "        self.ansatz_var_name = ansatz_var_name\n",
    "        self.aux_var_name = aux_var_name\n",
    "        self.es = ExecutionSession(qprog)\n",
    "        self.intermediate = {}\n",
    "\n",
    "    def get_cond_prop(self, res):\n",
    "        aux_prob_0 = 0\n",
    "        all_prob_0 = 0\n",
    "        for s in res:\n",
    "            if s.state[self.aux_var_name] == 0:\n",
    "                aux_prob_0 += s.shots\n",
    "                if s.state[self.ansatz_var_name] == 0:\n",
    "                    all_prob_0 = s.shots\n",
    "        return all_prob_0 / aux_prob_0\n",
    "\n",
    "    def my_cost(self, params):\n",
    "        results = self.es.sample(params)\n",
    "        return 1 - self.get_cond_prop(\n",
    "            results.parsed_counts_of_outputs([self.ansatz_var_name, self.aux_var_name])\n",
    "        )\n",
    "\n",
    "    def f(self, x):\n",
    "        cost = self.my_cost(\n",
    "            {\"params_\" + str(k): x[k] for k in range(self.ansatz_param_count)}\n",
    "        )\n",
    "        self.intermediate[tuple(x)] = cost\n",
    "        return cost\n",
    "\n",
    "    def optimize(self):\n",
    "        random.seed(1000)\n",
    "        out = minimize(\n",
    "            self.f,\n",
    "            x0=[\n",
    "                float(random.randint(0, 3000)) / 1000\n",
    "                for i in range(0, self.ansatz_param_count)\n",
    "            ],\n",
    "            method=\"COBYLA\",\n",
    "            options={\"maxiter\": 2000},\n",
    "        )\n",
    "        print(out)\n",
    "        out_f = [out[\"x\"][0 : self.ansatz_param_count]]\n",
    "        print(out_f)\n",
    "        plt.plot(\n",
    "            [l for l in range(len(self.intermediate))], list(self.intermediate.values())\n",
    "        )\n",
    "\n",
    "        return {\n",
    "            \"params_\" + str(k): list(self.intermediate.keys())[-1][k]\n",
    "            for k in range(self.ansatz_param_count)\n",
    "        }"
   ]
  },
  {
   "cell_type": "markdown",
   "metadata": {
    "jp-MarkdownHeadingCollapsed": true
   },
   "source": [
    "***\n",
    "Once the optimal variational weights `w` are found, we\n",
    "can generate the quantum state $|x\\rangle$. By measuring $|x\\rangle$ in\n",
    "the computational basis we can estimate the probability of each basis\n",
    "state.\n",
    "***"
   ]
  },
  {
   "cell_type": "markdown",
   "metadata": {},
   "source": [
    "## LCU Block Encoding: Block encoding the matrix A with LCU\n",
    "\n",
    "We treat a specific example based on a system of 10 qubits:\n",
    "\n",
    "$$A = \\sum_{i=1}^{10} X_i  + 0.1\\sum_{i=1}^{9} Z_i Z_{i+1} +I,$$\n",
    "\n",
    "\n",
    "where $Z_i, X_i, H_i$ represent the Pauli $Z$, Pauli $X$ and Hadamard gates applied to the qubit with index $i$."
   ]
  },
  {
   "cell_type": "markdown",
   "metadata": {},
   "source": [
    "Our first goal is to encode the Matrix A on a quantum circuit.  \n",
    "\n",
    "Using *linear combinations of unitaries* (LCU) we can encode the operator A\n",
    "\n",
    "$A$, representable as a linear combination of $L$ unitary matrices $A_0, A_1, \\dots, A_{L-1}$ we can implement a quantum circuit that applies the associated operator.\n",
    "\n",
    "$$A = \\sum_{i=1}^{10} X_i  + 0.1\\sum_{i=1}^{9} Z_i Z_{i+1} +I,$$\n",
    "\n",
    "where $c_l$ are arbitrary complex numbers. Crucially, we assume that each unitary $A_l$ can be efficiently implemented using a quantum circuit acting on $n$ qubits.\n",
    "\n",
    "First we will need to define some unitary operations associated to the simple example presented above.\n",
    "\n",
    "Let's apply the previous theory on our simple example based on a system of 10 qubits:"
   ]
  },
  {
   "cell_type": "code",
   "execution_count": 18,
   "metadata": {},
   "outputs": [],
   "source": [
    "paulis = []\n",
    "num_qubits=10\n",
    "# X terms\n",
    "for i in range(num_qubits):\n",
    "    pauli_str = ['I'] * num_qubits\n",
    "    pauli_str[i] = 'X'\n",
    "    paulis.append((''.join(pauli_str),1.0))\n",
    "    \n",
    "# ZZ terms\n",
    "for j in range(num_qubits - 1):\n",
    "    pauli_str = ['I'] * num_qubits\n",
    "    pauli_str[j] = 'Z'\n",
    "    pauli_str[j+1] = 'Z'\n",
    "    paulis.append((''.join(pauli_str),0.1))\n",
    "\n",
    "# I term\n",
    "for k in range(10):\n",
    "    pauli_str = ['I'] * num_qubits\n",
    "    paulis.append((''.join(pauli_str),1.0))\n",
    "# additional pading with zero\n",
    "for k in range(3):\n",
    "    pauli_str = ['I'] * num_qubits\n",
    "    paulis.append((''.join(pauli_str),0.0))"
   ]
  },
  {
   "cell_type": "code",
   "execution_count": 19,
   "metadata": {},
   "outputs": [],
   "source": [
    "num_system_qubits = 10\n",
    "num_ancila_qubits = 5\n",
    "ansatz_param_count = 10\n",
    "\n",
    "\n",
    "error_bound = 0.0\n",
    "error_metric = \"LOSS_OF_FIDELITY\""
   ]
  },
  {
   "cell_type": "markdown",
   "metadata": {},
   "source": [
    "To block encode the A we need only 3 thing:\n",
    "1. Representing it as a linear combination of $L$ unitary matrices (in our case we will use Pauli matrices)]\n",
    "2. A a unitary circuit $U_c$ that embeds the square root of $c$ (linear combination coefficients) into the quantum state\n",
    "3. A circuit that encodes $CA_l$"
   ]
  },
  {
   "cell_type": "markdown",
   "metadata": {},
   "source": [
    "#### Preparing $U_c$  \n",
    "To construct $\\vec{c}$ from the above example we will we want to apply our Pauli's strings decomposition. For this we need  additional functions:"
   ]
  },
  {
   "cell_type": "code",
   "execution_count": 20,
   "metadata": {},
   "outputs": [],
   "source": [
    "from typing import cast\n",
    "\n",
    "from classiq import Pauli, PauliTerm\n",
    "\n",
    "my_list = {\"I\": Pauli.I, \"X\": Pauli.X, \"Y\": Pauli.Y, \"Z\": Pauli.Z}\n",
    "\n",
    "\n",
    "def pauli_str_to_enums(pauli):\n",
    "    return [my_list[s] for s in pauli]\n",
    "\n",
    "\n",
    "def pauli_operator_to_hamiltonian(pauli_list):\n",
    "    return [\n",
    "        PauliTerm(\n",
    "            pauli=pauli_str_to_enums(pauli), coefficient=cast(complex, coeff).real\n",
    "        )\n",
    "        for pauli, coeff in pauli_list\n",
    "    ]"
   ]
  },
  {
   "cell_type": "markdown",
   "metadata": {},
   "source": [
    "Now we can construct $\\vec{c}$:"
   ]
  },
  {
   "cell_type": "code",
   "execution_count": 21,
   "metadata": {},
   "outputs": [],
   "source": [
    "pauli_terms_structs = pauli_operator_to_hamiltonian(paulis)\n",
    "c = []\n",
    "for pauli_struct in pauli_terms_structs:\n",
    "    c.append(pauli_struct.coefficient)\n",
    "c = c / np.sum(c)"
   ]
  },
  {
   "cell_type": "markdown",
   "metadata": {},
   "source": [
    "To prepare $U_c$ we need to embed the square root of the probability distribution `c`\n",
    "into the amplitudes of the ancillary state:"
   ]
  },
  {
   "cell_type": "code",
   "execution_count": 22,
   "metadata": {},
   "outputs": [],
   "source": [
    "@qfunc\n",
    "def prepare_c(ancillary_qubits: QArray[QBit]):\n",
    "    inplace_prepare_state(list(c), error_bound, ancillary_qubits)"
   ]
  },
  {
   "cell_type": "markdown",
   "metadata": {},
   "source": [
    "#### LCU sequence of all controlled-unitaries $CA_l$\n",
    "\n",
    "Next, we are left to define the LCU sequence of all controlled-unitaries $CA_l$,\n",
    "acting as $A_l$ on the system whenever the ancillary state is\n",
    "$|l\\rangle$. \n",
    "The `prepare_ca` function iterates over a list of Pauli terms $A_l$ and will apply $CA_l$ on the 10 qubit state `phi` controlled by the ancillary state $\\vec{c}$ "
   ]
  },
  {
   "cell_type": "code",
   "execution_count": 23,
   "metadata": {},
   "outputs": [],
   "source": [
    "@qfunc\n",
    "def apply_pauli(pauli_value: CInt, qubit: QBit):\n",
    "    switch(\n",
    "        pauli_value,\n",
    "        [lambda: IDENTITY(qubit), lambda: X(qubit), lambda: Y(qubit), lambda: Z(qubit)],\n",
    "    )\n",
    "\n",
    "\n",
    "@qfunc\n",
    "def apply_pauli_term(pauli_term: PauliTerm, x: QArray[QBit]):\n",
    "    repeat(\n",
    "        count=x.len,\n",
    "        iteration=lambda index: apply_pauli(pauli_term.pauli[index], x[index]),\n",
    "    )\n",
    "\n",
    "\n",
    "@qfunc\n",
    "def apply_controlled_pauli_term(pauli_term: PauliTerm, x: QArray[QBit]):\n",
    "    repeat(\n",
    "        count=x.len,\n",
    "        iteration=lambda index: apply_pauli(pauli_term.pauli[index], x[index]),\n",
    "    )\n",
    "\n",
    "\n",
    "@qfunc\n",
    "def prepare_ca(\n",
    "    pauli_terms_list: CArray[PauliTerm],\n",
    "    system_qubits: QArray[QBit],\n",
    "    ancillary_qubits: QNum,\n",
    "):\n",
    "    repeat(\n",
    "        count=pauli_terms_list.len,\n",
    "        iteration=lambda i: control(\n",
    "            ancillary_qubits == i,\n",
    "            lambda: apply_pauli_term(pauli_terms_list[i], system_qubits),\n",
    "        ),\n",
    "    )"
   ]
  },
  {
   "cell_type": "code",
   "execution_count": null,
   "metadata": {},
   "outputs": [],
   "source": []
  },
  {
   "cell_type": "markdown",
   "metadata": {},
   "source": [
    "### Preparing Ansatz\n",
    "\n",
    "Let's consider our ansatz $V(w)$, such that : \n",
    "\n",
    "$$|x\\rangle = V(w) |0\\rangle $$\n",
    "\n",
    "\n",
    "This allows us to \"search\" the state space by varying some set of parameters, $w$. \n",
    "\n",
    "The ansatz that we will use for this 10 qubits system implementation takes in 28 parameters as defined in `apply_fixed_10_qubit_system_ansatz` function:"
   ]
  },
  {
   "cell_type": "code",
   "execution_count": 24,
   "metadata": {},
   "outputs": [],
   "source": [
    "@qfunc\n",
    "def apply_ry_on_all(params: CArray[CReal], io: QArray[QBit]):\n",
    "    repeat(count=io.len, iteration=lambda index: RY(params[index], io[index]))\n",
    "\n",
    "\n",
    "@qfunc\n",
    "def apply_fixed_10_qubit_system_ansatz(\n",
    "    angles: CArray[CReal], system_qubits: QArray[QBit]\n",
    "):\n",
    "    apply_ry_on_all(angles, system_qubits)\n",
    "    "
   ]
  },
  {
   "cell_type": "markdown",
   "metadata": {},
   "source": [
    "This is a fixed hardware ansatz: the configuration of quantum gates remains the same for each run of the circuit, all that changes are the parameters. The applications of $Ry$ gates allow us to search the state space, while the $CZ$ gates create \"interference\" between the different qubit states."
   ]
  },
  {
   "cell_type": "markdown",
   "metadata": {
    "editable": true,
    "slideshow": {
     "slide_type": ""
    },
    "tags": []
   },
   "source": [
    "### Running the VQLS\n",
    "\n",
    "Now, we can define the main function: we call `block_encoding_vqls` with the arguments of our specific example."
   ]
  },
  {
   "cell_type": "code",
   "execution_count": 25,
   "metadata": {
    "editable": true,
    "slideshow": {
     "slide_type": ""
    },
    "tags": []
   },
   "outputs": [],
   "source": [
    "@qfunc\n",
    "def main(\n",
    "    params: CArray[CReal, ansatz_param_count],\n",
    "    ancillary_qubits: Output[QNum],\n",
    "    system_qubits: Output[QNum],\n",
    "):\n",
    "\n",
    "    allocate(num_ancila_qubits, ancillary_qubits)\n",
    "    allocate(num_system_qubits, system_qubits)\n",
    "\n",
    "    block_encoding_vqls(\n",
    "        ansatz=lambda: apply_fixed_10_qubit_system_ansatz(params, system_qubits),\n",
    "        block_encoding=lambda: within_apply(\n",
    "            within=lambda: prepare_c(ancillary_qubits),\n",
    "            apply=lambda: prepare_ca(\n",
    "                pauli_terms_structs, system_qubits, ancillary_qubits\n",
    "            ),\n",
    "        ),\n",
    "        prepare_b_state=lambda: apply_to_all(H, system_qubits),\n",
    "        #prepare_b_state=lambda: apply_to_all(IDENTITY, system_qubits),\n",
    "    )"
   ]
  },
  {
   "cell_type": "markdown",
   "metadata": {},
   "source": [
    "Constructing the model, synthesizing and executing on Classiq's simulator:"
   ]
  },
  {
   "cell_type": "code",
   "execution_count": 26,
   "metadata": {
    "scrolled": true
   },
   "outputs": [
    {
     "name": "stdout",
     "output_type": "stream",
     "text": [
      "Opening: https://platform.classiq.io/circuit/cc44dd5f-7614-4f64-b54b-374a8ba7e8a8?version=0.57.0\n"
     ]
    }
   ],
   "source": [
    "from classiq.execution import ClassiqBackendPreferences, ExecutionPreferences\n",
    "from classiq.synthesis import set_execution_preferences\n",
    "\n",
    "backend_preferences = ClassiqBackendPreferences(backend_name=\"simulator_statevector\")\n",
    "model = create_model(main)\n",
    "\n",
    "model = set_execution_preferences(\n",
    "    model,\n",
    "    execution_preferences=ExecutionPreferences(\n",
    "        num_shots=2048, job_name=\"vqls_with_lcu_10Qbit_I\", backend_preferences=backend_preferences\n",
    "    ),\n",
    ")\n",
    "qprog = synthesize(model)\n",
    "show(qprog)"
   ]
  },
  {
   "cell_type": "code",
   "execution_count": 27,
   "metadata": {},
   "outputs": [],
   "source": [
    "from classiq import write_qmod\n",
    "\n",
    "write_qmod(model, name=\"vqls_with_lcu_10Qbit_I\", decimal_precision=15)"
   ]
  },
  {
   "cell_type": "markdown",
   "metadata": {},
   "source": [
    "We run the classical optimizer to get the optimal parameters"
   ]
  },
  {
   "cell_type": "code",
   "execution_count": 28,
   "metadata": {},
   "outputs": [
    {
     "name": "stdout",
     "output_type": "stream",
     "text": [
      " message: Optimization terminated successfully.\n",
      " success: True\n",
      "  status: 1\n",
      "     fun: 0.0\n",
      "       x: [ 1.587e+00  1.527e+00  1.606e+00  1.551e+00  1.572e+00\n",
      "            1.606e+00  1.628e+00  1.552e+00  1.591e+00  1.612e+00]\n",
      "    nfev: 129\n",
      "   maxcv: 0.0\n",
      "[array([1.58748201, 1.52720758, 1.60557421, 1.55089516, 1.57178122,\n",
      "       1.60605302, 1.62802318, 1.5523687 , 1.59084819, 1.61158627])]\n"
     ]
    },
    {
     "data": {
      "image/png": "[encoded data removed]",
      "text/plain": [
       "<Figure size 640x480 with 1 Axes>"
      ]
     },
     "metadata": {},
     "output_type": "display_data"
    }
   ],
   "source": [
    "optimizer = VqlsOptimizer(\n",
    "    qprog, ansatz_param_count, \"system_qubits\", \"ancillary_qubits\"\n",
    ")\n",
    "optimal_params = optimizer.optimize()"
   ]
  },
  {
   "cell_type": "markdown",
   "metadata": {},
   "source": [
    "##### Time Taken to complete: Start time:10.45  End time: 13:16 --- Total time taken 2 Hours 36 minutes"
   ]
  },
  {
   "cell_type": "markdown",
   "metadata": {},
   "source": [
    "## CX-gate count"
   ]
  },
  {
   "cell_type": "code",
   "execution_count": 29,
   "metadata": {},
   "outputs": [
    {
     "name": "stdout",
     "output_type": "stream",
     "text": [
      "Number of CX Gates: 3020\n"
     ]
    }
   ],
   "source": [
    "circuit = QuantumProgram.from_qprog(qprog)\n",
    "cx_counts=circuit.transpiled_circuit.count_ops[\"cx\"]\n",
    "print(f\"Number of CX Gates: {cx_counts}\")"
   ]
  },
  {
   "cell_type": "markdown",
   "metadata": {},
   "source": [
    "### Measuring the Quantum Solution\n",
    "\n",
    "Finally, we can apply the optimal params to measure the quantum results for $\\vec{x}$:"
   ]
  },
  {
   "cell_type": "code",
   "execution_count": 30,
   "metadata": {},
   "outputs": [],
   "source": [
    "@qfunc\n",
    "def main(io: Output[QArray[QBit]]):\n",
    "    allocate(num_system_qubits, io)\n",
    "    apply_fixed_10_qubit_system_ansatz(list(optimal_params.values()), io)"
   ]
  },
  {
   "cell_type": "code",
   "execution_count": 31,
   "metadata": {
    "editable": true,
    "slideshow": {
     "slide_type": ""
    },
    "tags": []
   },
   "outputs": [],
   "source": [
    "from classiq.execution import ClassiqBackendPreferences, ExecutionPreferences\n",
    "from classiq.synthesis import set_execution_preferences\n",
    "\n",
    "backend_preferences = ClassiqBackendPreferences(backend_name=\"simulator_statevector\")\n",
    "qmod = create_model(main)\n",
    "\n",
    "qmod = set_execution_preferences(\n",
    "    qmod,\n",
    "    execution_preferences=ExecutionPreferences(\n",
    "        num_shots=2048, job_name=\"vqls_with_lcu_10Qbit_I\", backend_preferences=backend_preferences\n",
    "    ),\n",
    ")\n",
    "\n",
    "\n",
    "qprog = synthesize(qmod)"
   ]
  },
  {
   "cell_type": "code",
   "execution_count": 32,
   "metadata": {},
   "outputs": [],
   "source": [
    "job = execute(qprog)\n",
    "results = job.result()[0]"
   ]
  },
  {
   "cell_type": "code",
   "execution_count": 33,
   "metadata": {},
   "outputs": [],
   "source": [
    "state_vector = results.value.state_vector"
   ]
  },
  {
   "cell_type": "code",
   "execution_count": 36,
   "metadata": {},
   "outputs": [
    {
     "data": {
      "text/plain": [
       "[0.0008582071026979923,\n",
       " 0.0008873633143797021,\n",
       " 0.0007865137081642222,\n",
       " 0.0008132342516014769,\n",
       " 0.000919991488805406,\n",
       " 0.0009512467260420303,\n",
       " 0.0008431367149783388,\n",
       " 0.0008717809343762525,\n",
       " 0.000824692891358942,\n",
       " 0.0008527105113917656,\n",
       " 0.000755799226131146,\n",
       " 0.0007814762942382209,\n",
       " 0.0008840645090717017,\n",
       " 0.0009140991847178803,\n",
       " 0.000810211023773193,\n",
       " 0.0008377366455511089,\n",
       " 0.0008598957783127705,\n",
       " 0.0008891093600436581,\n",
       " 0.0007880613142321404,\n",
       " 0.0008148344351066759]"
      ]
     },
     "execution_count": 36,
     "metadata": {},
     "output_type": "execute_result"
    }
   ],
   "source": [
    "probabilities = []\n",
    "for key, val in state_vector.items():\n",
    "    probabilities.append(abs(complex(val)) ** 2)\n",
    "\n",
    "\n",
    "probabilities[0:20]"
   ]
  },
  {
   "cell_type": "code",
   "execution_count": 37,
   "metadata": {},
   "outputs": [
    {
     "data": {
      "text/plain": [
       "[0.02929517200321569,\n",
       " 0.029788644050706675,\n",
       " 0.028044851722985133,\n",
       " 0.028517262344086903,\n",
       " 0.03033136147299369,\n",
       " 0.030842287950831895,\n",
       " 0.02903681654345632,\n",
       " 0.029525936638424403,\n",
       " 0.028717466659838608,\n",
       " 0.029201207361884297,\n",
       " 0.02749180288979146,\n",
       " 0.027954897500048554,\n",
       " 0.029733222312283977,\n",
       " 0.0302340732405986,\n",
       " 0.028464206009885345,\n",
       " 0.028943680580588035,\n",
       " 0.02932397957837187,\n",
       " 0.029817936884426764,\n",
       " 0.028072429788533453,\n",
       " 0.028545304957324873]"
      ]
     },
     "execution_count": 37,
     "metadata": {},
     "output_type": "execute_result"
    }
   ],
   "source": [
    "amplitudes = []\n",
    "for key, val in state_vector.items():\n",
    "    amplitudes.append(abs(complex(val)))\n",
    "\n",
    "\n",
    "amplitudes[0:20]"
   ]
  },
  {
   "cell_type": "markdown",
   "metadata": {
    "editable": true,
    "slideshow": {
     "slide_type": ""
    },
    "tags": []
   },
   "source": [
    "## References\n",
    "\n",
    "<a name='VQLS'>[1]</a>: [Bravo-Prieto et al.,Variational Quantum Linear Solver. (2020)](https://arxiv.org/pdf/1909.05820.pdf)\n",
    "\n",
    "[2]:\tThe Hamiltonian Simulation Guides using Classiq\n",
    "\n",
    "[3]:\tThe Quantum Machine Learning Guide using Classiq\n",
    "\n",
    "<a name='VQLS-with-LCU'>[4]</a>: [Variational Quantum Linear Solver (VQLS) with Linear Combination of Unitaries (LCU) Block Encoding.](https://docs.classiq.io/latest/explore/algorithms/vqls/lcu_vqls/vqls_with_lcu/)"
   ]
  },
  {
   "cell_type": "markdown",
   "metadata": {},
   "source": [
    "#### Classiq resources:\n",
    "\n",
    "1.\t[Getting Started with Classiq - Classiq 101](https://docs.classiq.io/latest/classiq_101/)\n",
    "  \n",
    "3.\t[Classiq’s documentation](https://docs.classiq.io/latest/)\n",
    "  \n",
    "5.\t[Classiq Library](https://docs.classiq.io/latest/explore/) of many implementation algorithms and applications\n",
    "\n",
    "7.\t[Classiq Community Slack](https://short.classiq.io/join-slack) is available for any questions you might have"
   ]
  },
  {
   "cell_type": "raw",
   "metadata": {},
   "source": [
    "Backend name: Default\n",
    "Depth: 4883\n",
    "Width: 18\n",
    "Gate count\n",
    "\n",
    "CX : 3020\n",
    "U1 : 1607\n",
    "U : 506\n",
    "TDG : 341\n",
    "T : 341\n",
    "P : 320\n",
    "X : 84\n",
    "H : 35\n",
    "RY : 18\n",
    "CZ : 18\n",
    "Hardware details\n",
    "\n",
    "Basis Gates: s, t, rx, sx, x, r, rz, sxdg, sdg, y, ry, cx, u1, tdg, h, u, id, cy, u2, cz, p, z\n",
    "Connectivity Map:\n",
    "undefined\n",
    "Symmetric Connectivity: True"
   ]
  },
  {
   "cell_type": "code",
   "execution_count": null,
   "metadata": {},
   "outputs": [],
   "source": []
  }
 ],
 "metadata": {
  "kernelspec": {
   "display_name": "Python 3 (ipykernel)",
   "language": "python",
   "name": "python3"
  },
  "language_info": {
   "codemirror_mode": {
    "name": "ipython",
    "version": 3
   },
   "file_extension": ".py",
   "mimetype": "text/x-python",
   "name": "python",
   "nbconvert_exporter": "python",
   "pygments_lexer": "ipython3",
   "version": "3.12.7"
  },
  "vscode": {
   "interpreter": {
    "hash": "a92532c879895fdbdcd7b9af93b00a95f00d91e2c0b5de957658bacdd1492da5"
   }
  }
 },
 "nbformat": 4,
 "nbformat_minor": 4
}
